{
 "cells": [
  {
   "cell_type": "markdown",
   "metadata": {},
   "source": [
    "## Write a correlation function in python which can give the uncorrelated variable in the output for model building. Basic idea is to remove the manual lookup of correlation matrix by the data scientist. Now your function should do that. Help the Data Scientist."
   ]
  },
  {
   "cell_type": "code",
   "execution_count": 37,
   "metadata": {},
   "outputs": [
    {
     "data": {
      "text/plain": [
       "(0.7595545253127506, False)"
      ]
     },
     "execution_count": 37,
     "metadata": {},
     "output_type": "execute_result"
    }
   ],
   "source": [
    "import numpy as np\n",
    "import math\n",
    "\n",
    "def uncorrelation(independent_variable,dependent_variable):\n",
    "    x = independent_variable\n",
    "    y = dependent_variable\n",
    "    n = (len(x))\n",
    "    a = sum(x)\n",
    "    b = sum(y)\n",
    "    z = []\n",
    "    q = []\n",
    "    w = []\n",
    "    for i in range (n):\n",
    "        xy= x[i]*y[i]\n",
    "        z.append(xy)\n",
    "        zx = x[i]*x[i]\n",
    "        q.append(zx)\n",
    "        cv = y[i]*y[i]\n",
    "        w.append(cv)\n",
    "    c = sum(z)\n",
    "    d = sum(q)\n",
    "    e = sum(w)\n",
    "    r = (c-((a*b)/n))/math.sqrt((d-(a**2/n))*(e-(b**2/n)))\n",
    "    if r == 0:\n",
    "        flag = True\n",
    "    else:\n",
    "        flag = False\n",
    "    return(r,flag)\n",
    "\n",
    "\n",
    "iv = [7,6,8,5,6,9]\n",
    "dv = [12,8,12,10,11,13]\n",
    "uncorrelation(iv,dv)\n"
   ]
  },
  {
   "cell_type": "code",
   "execution_count": null,
   "metadata": {},
   "outputs": [],
   "source": []
  }
 ],
 "metadata": {
  "kernelspec": {
   "display_name": "Python 3",
   "language": "python",
   "name": "python3"
  },
  "language_info": {
   "codemirror_mode": {
    "name": "ipython",
    "version": 3
   },
   "file_extension": ".py",
   "mimetype": "text/x-python",
   "name": "python",
   "nbconvert_exporter": "python",
   "pygments_lexer": "ipython3",
   "version": "3.8.5"
  }
 },
 "nbformat": 4,
 "nbformat_minor": 4
}
