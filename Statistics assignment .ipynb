{
 "cells": [
  {
   "cell_type": "markdown",
   "metadata": {},
   "source": [
    "## Write a function to calculate Interval estimates and point estimate.\n",
    "\n",
    "def interval_estimate (flag=interval|point, mean, sigma, sample_size):\n",
    "\t\n",
    "    ------------\n",
    "\t------------\n",
    "\t------------\n",
    "\t------------\n",
    "\treturn (Interval estimate)\n",
    "\n",
    "\n",
    "1. Able to decide t or z dist\n",
    "2. Able to decide point estimate or Interval estimate\n",
    "3. Display -> Which Distribution, which metric, range or mean\n",
    "4. alpha = 5% (Define using a dictionary)\n",
    "5. Make use of exception handling appropriately."
   ]
  },
  {
   "cell_type": "code",
   "execution_count": 17,
   "metadata": {},
   "outputs": [
    {
     "name": "stdout",
     "output_type": "stream",
     "text": [
      " t distribution \n",
      " Interval Estimate Matric \n",
      " estimate is 39419.8610548529 to 42780.1389451471\n"
     ]
    },
    {
     "data": {
      "text/plain": [
       "('t', 'Interval Estimate', '39419.8610548529 to 42780.1389451471')"
      ]
     },
     "execution_count": 17,
     "metadata": {},
     "output_type": "execute_result"
    }
   ],
   "source": [
    "import numpy as np\n",
    "import math\n",
    "\n",
    "def Interval_estimate(estimate,mean,sigma,sample_size):\n",
    "    dictt={'t':[12.706,  4.303, 3.182, 2.776, 2.571, 2.447, 2.365, 2.306, 2.262, 2.228, 2.201, 2.179, 2.160, 2.145, 2.131, 2.120, 2.110, 2.101, 2.093, 2.086, 2.080, 2.074, 2.069, 2.064, 2.060, 2.056, 2.052, 2.048, 2.045, 2.042],\n",
    "          'z':1.96}\n",
    "    try:\n",
    "        if(estimate=='interval'):\n",
    "            if (sample_size<=30):\n",
    "                distribution='t'\n",
    "                temp=dictt[distribution][sample_size-2]*(sigma/math.sqrt(sample_size))\n",
    "                rangeU=str(mean+temp)\n",
    "                rangeL=str(mean-temp)\n",
    "                rangeInterval=rangeL+\" to \"+rangeU\n",
    "                matric='Interval Estimate'\n",
    "            elif (sample_size>=30):\n",
    "                distribution='z'\n",
    "                temp=dictt[distribution]*(sigma/math.sqrt(sample_size))\n",
    "                rangeU=str(mean+temp)\n",
    "                rangeL=str(mean-temp)\n",
    "                rangeInterval=rangeL+\" to \"+rangeU\n",
    "                matric='Interval Estimate'\n",
    "        elif(estimate=='point'):\n",
    "            if(sample_size<30):\n",
    "                distribution='t'\n",
    "            elif(sample_size>30):\n",
    "                distribution='z'\n",
    "            matric='Point Estimate'\n",
    "            rangeInterval=mean\n",
    "        print(' {} distribution \\n {} Matric \\n estimate is {}'.format(distribution,matric,rangeInterval))\n",
    "        return(distribution,matric,rangeInterval)\n",
    "    except:\n",
    "        print(\"Invalid flags\")\n",
    "        \n",
    "Interval_estimate('interval',41100,4500,30) "
   ]
  },
  {
   "cell_type": "code",
   "execution_count": null,
   "metadata": {},
   "outputs": [],
   "source": []
  }
 ],
 "metadata": {
  "kernelspec": {
   "display_name": "Python 3",
   "language": "python",
   "name": "python3"
  },
  "language_info": {
   "codemirror_mode": {
    "name": "ipython",
    "version": 3
   },
   "file_extension": ".py",
   "mimetype": "text/x-python",
   "name": "python",
   "nbconvert_exporter": "python",
   "pygments_lexer": "ipython3",
   "version": "3.8.5"
  }
 },
 "nbformat": 4,
 "nbformat_minor": 4
}
