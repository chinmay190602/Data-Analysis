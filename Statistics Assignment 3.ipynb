{
 "cells": [
  {
   "cell_type": "markdown",
   "metadata": {},
   "source": [
    "Write a Python Program for the Hypothesis Testing.\n",
    "\n",
    "## def hyp_test(csv, alpha):\n",
    "    sigma\n",
    "\tmean\n",
    "\tn\n",
    "\tis it t test\n",
    "\tis it z test\n",
    "\treturn ()\n",
    "\n",
    "output : Null Hyp is rejected or accepted."
   ]
  },
  {
   "cell_type": "code",
   "execution_count": 12,
   "metadata": {},
   "outputs": [
    {
     "name": "stdout",
     "output_type": "stream",
     "text": [
      "Null Hypothesis is Rejected\n"
     ]
    },
    {
     "data": {
      "text/plain": [
       "(-2.0051035546145037, 'Z distribution')"
      ]
     },
     "execution_count": 12,
     "metadata": {},
     "output_type": "execute_result"
    }
   ],
   "source": [
    "import numpy as np\n",
    "import math\n",
    "import pandas as pd\n",
    "\n",
    "def hyp_test(csv, alpha):\n",
    "    a = alpha\n",
    "    df = pd.read_csv(csv)\n",
    "    c = df.iloc[:, 0].mean()\n",
    "    d = df.iloc[:, 1].mean()\n",
    "    e = df.iloc[:, 0].std()\n",
    "    f = df.iloc[:, 0].count()\n",
    "    z = (d - c)/(e/(math.sqrt(f)))\n",
    "    if a == 0.025:\n",
    "        if abs(z) > a:\n",
    "            print('Null Hypothesis is Rejected')\n",
    "        else:\n",
    "            print('Null Hypothesis is Accepted')\n",
    "    if f >= 30:\n",
    "        flag = \"Z distribution\"\n",
    "    elif f <= 30:\n",
    "        flag = \"T distribution\"\n",
    "    return(z, flag)\n",
    "\n",
    "hyp_test(\"hypothesis_testing.csv\", 0.025)"
   ]
  },
  {
   "cell_type": "code",
   "execution_count": null,
   "metadata": {},
   "outputs": [],
   "source": []
  }
 ],
 "metadata": {
  "kernelspec": {
   "display_name": "Python 3",
   "language": "python",
   "name": "python3"
  },
  "language_info": {
   "codemirror_mode": {
    "name": "ipython",
    "version": 3
   },
   "file_extension": ".py",
   "mimetype": "text/x-python",
   "name": "python",
   "nbconvert_exporter": "python",
   "pygments_lexer": "ipython3",
   "version": "3.8.5"
  }
 },
 "nbformat": 4,
 "nbformat_minor": 4
}
